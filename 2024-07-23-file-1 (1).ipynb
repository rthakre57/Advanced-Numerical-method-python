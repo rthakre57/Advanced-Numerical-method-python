{
 "cells": [
  {
   "cell_type": "markdown",
   "id": "ad1af6",
   "metadata": {
    "collapsed": false
   },
   "source": [
    "<br/>\n",
    "\n"
   ]
  },
  {
   "cell_type": "code",
   "execution_count": 12,
   "id": "6cb6d9",
   "metadata": {
    "collapsed": false
   },
   "outputs": [
    {
     "name": "stdout",
     "output_type": "stream",
     "text": [
      "Help on built-in function divisors:\n",
      "\n",
      "divisors(...) method of sage.rings.integer.Integer instance\n",
      "    Integer.divisors(self, method=None)\n",
      "    File: sage/rings/integer.pyx (starting at line 3001)\n",
      "    \n",
      "            Return the list of all positive integer divisors of this integer,\n",
      "            sorted in increasing order.\n",
      "    \n",
      "            EXAMPLES:\n",
      "    \n",
      "            ::\n",
      "    \n",
      "                sage: (-3).divisors()\n",
      "                [1, 3]\n",
      "                sage: 6.divisors()\n",
      "                [1, 2, 3, 6]\n",
      "                sage: 28.divisors()\n",
      "                [1, 2, 4, 7, 14, 28]\n",
      "                sage: (2^5).divisors()\n",
      "                [1, 2, 4, 8, 16, 32]\n",
      "                sage: 100.divisors()\n",
      "                [1, 2, 4, 5, 10, 20, 25, 50, 100]\n",
      "                sage: 1.divisors()\n",
      "                [1]\n",
      "                sage: 0.divisors()\n",
      "                Traceback (most recent call last):\n",
      "                ...\n",
      "                ValueError: n must be nonzero\n",
      "                sage: (2^3 * 3^2 * 17).divisors()\n",
      "                [1, 2, 3, 4, 6, 8, 9, 12, 17, 18, 24, 34, 36, 51, 68, 72,\n",
      "                102, 136, 153, 204, 306, 408, 612, 1224]\n",
      "                sage: a = odd_part(factorial(31))\n",
      "                sage: v = a.divisors()                                                      # needs sage.libs.pari\n",
      "                sage: len(v)                                                                # needs sage.libs.pari\n",
      "                172800\n",
      "                sage: prod(e + 1 for p, e in factor(a))                                     # needs sage.libs.pari\n",
      "                172800\n",
      "                sage: all(t.divides(a) for t in v)                                          # needs sage.libs.pari\n",
      "                True\n",
      "    \n",
      "            ::\n",
      "    \n",
      "                sage: n = 2^551 - 1\n",
      "                sage: L = n.divisors()                                                      # needs sage.libs.pari\n",
      "                sage: len(L)                                                                # needs sage.libs.pari\n",
      "                256\n",
      "                sage: L[-1] == n                                                            # needs sage.libs.pari\n",
      "                True\n",
      "    \n",
      "            TESTS:\n",
      "    \n",
      "            Overflow::\n",
      "    \n",
      "                sage: prod(primes_first_n(64)).divisors()                                   # needs sage.libs.pari\n",
      "                Traceback (most recent call last):\n",
      "                ...\n",
      "                OverflowError: value too large\n",
      "                sage: prod(primes_first_n(58)).divisors()                                   # needs sage.libs.pari\n",
      "                Traceback (most recent call last):\n",
      "                ...\n",
      "                OverflowError: value too large                                 # 32-bit\n",
      "                MemoryError: failed to allocate 288230376151711744 * 24 bytes  # 64-bit\n",
      "    \n",
      "            Check for memory leaks and ability to interrupt\n",
      "            (the ``divisors`` call below allocates about 800 MB every time,\n",
      "            so a memory leak will not go unnoticed)::\n",
      "    \n",
      "                sage: n = prod(primes_first_n(25))                                          # needs sage.libs.pari\n",
      "                sage: for i in range(20):           # long time                             # needs sage.libs.pari\n",
      "                ....:     try:\n",
      "                ....:         alarm(RDF.random_element(1e-3, 0.5))\n",
      "                ....:         _ = n.divisors()\n",
      "                ....:         cancel_alarm()  # we never get here\n",
      "                ....:     except AlarmInterrupt:\n",
      "                ....:         pass\n",
      "    \n",
      "            Test a strange method::\n",
      "    \n",
      "                sage: 100.divisors(method='hey')\n",
      "                Traceback (most recent call last):\n",
      "                ...\n",
      "                ValueError: method must be 'pari' or 'sage'\n",
      "    \n",
      "    \n",
      "            .. NOTE::\n",
      "    \n",
      "               If one first computes all the divisors and then sorts it,\n",
      "               the sorting step can easily dominate the runtime. Note,\n",
      "               however, that (non-negative) multiplication on the left\n",
      "               preserves relative order. One can leverage this fact to\n",
      "               keep the list in order as one computes it using a process\n",
      "               similar to that of the merge sort algorithm.\n",
      "\n"
     ]
    }
   ],
   "source": [
    "n=7642\n",
    "type(n)\n",
    "n.is_prime()\n",
    "n.factor()\n",
    "n.next_prime()\n",
    "n.previous_prime()\n",
    "n.divisors()\n",
    "divisors(n)\n",
    "n.digits()\n",
    "len(n.digits())\n",
    "m=74353746382537\n",
    "m.digits()\n",
    "m.ndigits()\n",
    "help(n.divisors)"
   ]
  },
  {
   "cell_type": "code",
   "execution_count": 3,
   "id": "eb3425",
   "metadata": {
    "collapsed": false
   },
   "outputs": [
    {
     "data": {
      "text/plain": [
       "False"
      ]
     },
     "execution_count": 3,
     "metadata": {
     },
     "output_type": "execute_result"
    }
   ],
   "source": [
    "n.is_prime()"
   ]
  },
  {
   "cell_type": "code",
   "execution_count": 4,
   "id": "476ca7",
   "metadata": {
    "collapsed": false
   },
   "outputs": [
    {
     "data": {
      "text/plain": [
       "(6, 36, True)"
      ]
     },
     "execution_count": 4,
     "metadata": {
     },
     "output_type": "execute_result"
    }
   ],
   "source": [
    "# SageMath code\n",
    "a = 12\n",
    "b = 18\n",
    "\n",
    "gcd_ab = gcd(a, b)\n",
    "lcm_ab = lcm(a, b)\n",
    "\n",
    "# Verification\n",
    "verification = lcm_ab * gcd_ab == a * b\n",
    "\n",
    "(gcd_ab, lcm_ab, verification)\n"
   ]
  },
  {
   "cell_type": "code",
   "execution_count": 5,
   "id": "444334",
   "metadata": {
    "collapsed": false
   },
   "outputs": [
    {
     "data": {
      "image/png": "[encoded data removed]",
      "text/plain": [
       "Graphics object consisting of 1 graphics primitive"
      ]
     },
     "execution_count": 5,
     "metadata": {
     },
     "output_type": "execute_result"
    }
   ],
   "source": [
    "var('theta')\n",
    "r = 2 - cos(2*theta)\n",
    "polar_plot(r, 0, 2*pi,figsize=4)\n"
   ]
  }
 ],
 "metadata": {
  "kernelspec": {
   "argv": [
    "sage-10.3",
    "--python",
    "-m",
    "sage.repl.ipython_kernel",
    "--matplotlib=inline",
    "-f",
    "{connection_file}"
   ],
   "display_name": "SageMath 10.3",
   "env": {
   },
   "language": "sagemath",
   "metadata": {
    "cocalc": {
     "description": "Open-source mathematical software system",
     "priority": 10,
     "url": "https://www.sagemath.org/"
    }
   },
   "name": "sage-10.3",
   "resource_dir": "/ext/jupyter/kernels/sage-10.3"
  },
  "language_info": {
   "codemirror_mode": {
    "name": "ipython",
    "version": 3
   },
   "file_extension": ".py",
   "mimetype": "text/x-python",
   "name": "python",
   "nbconvert_exporter": "python",
   "pygments_lexer": "ipython3",
   "version": "3.11.1"
  }
 },
 "nbformat": 4,
 "nbformat_minor": 4
}